{
  "nbformat": 4,
  "nbformat_minor": 0,
  "metadata": {
    "colab": {
      "provenance": [],
      "toc_visible": true
    },
    "kernelspec": {
      "name": "python3",
      "display_name": "Python 3"
    }
  },
  "cells": [
    {
      "cell_type": "markdown",
      "metadata": {
        "id": "lNKIMlEDZ_Vw"
      },
      "source": [
        "# Interactive Beam\n",
        "\n",
        "In this notebook, we set up your development environment and work through a simple example using the [DirectRunner](https://beam.apache.org/documentation/runners/direct/). You can explore other runners with the [Beam Capatibility Matrix](https://beam.apache.org/documentation/runners/capability-matrix/).\n",
        "\n",
        "The expectation is that this notebook will help you explore the tutorial in a more interactive way.\n",
        "\n",
        "To learn more about Colab, see [Welcome to Colaboratory!](https://colab.sandbox.google.com/notebooks/welcome.ipynb)."
      ]
    },
    {
      "cell_type": "markdown",
      "metadata": {
        "id": "Fz6KSQ13_3Rr"
      },
      "source": [
        "# Setup\n",
        "\n",
        "First, you need to set up your environment, which includes installing `apache-beam` and downloading a text file from Cloud Storage to your local file system. We are using this file to test your pipeline."
      ]
    },
    {
      "cell_type": "code",
      "metadata": {
        "id": "GOOk81Jj_yUy",
        "colab": {
          "base_uri": "https://localhost:8080/"
        },
        "outputId": "28491292-cb60-4942-a4eb-061ed763c0fd"
      },
      "source": [
        "# Run and print a shell command.\n",
        "def run(cmd):\n",
        "  print('>> {}'.format(cmd))\n",
        "  !{cmd}\n",
        "  print('')\n",
        "\n",
        "run('pip install --upgrade pip')\n",
        "\n",
        "# Install apache-beam.\n",
        "run('pip install --quiet apache-beam')\n",
        "\n",
        "# Copy the input file into the local file system.\n",
        "run('mkdir -p data')\n",
        "run('gsutil cp gs://dataflow-samples/shakespeare/kinglear.txt data/')"
      ],
      "execution_count": 1,
      "outputs": [
        {
          "output_type": "stream",
          "name": "stdout",
          "text": [
            ">> pip install --upgrade pip\n",
            "Requirement already satisfied: pip in /usr/local/lib/python3.10/dist-packages (23.1.2)\n",
            "Collecting pip\n",
            "  Downloading pip-23.2.1-py3-none-any.whl (2.1 MB)\n",
            "\u001b[2K     \u001b[90m━━━━━━━━━━━━━━━━━━━━━━━━━━━━━━━━━━━━━━━━\u001b[0m \u001b[32m2.1/2.1 MB\u001b[0m \u001b[31m10.6 MB/s\u001b[0m eta \u001b[36m0:00:00\u001b[0m\n",
            "\u001b[?25hInstalling collected packages: pip\n",
            "  Attempting uninstall: pip\n",
            "    Found existing installation: pip 23.1.2\n",
            "    Uninstalling pip-23.1.2:\n",
            "      Successfully uninstalled pip-23.1.2\n",
            "Successfully installed pip-23.2.1\n",
            "\n",
            ">> pip install --quiet apache-beam\n",
            "\u001b[2K     \u001b[90m━━━━━━━━━━━━━━━━━━━━━━━━━━━━━━━━━━━━━━━━\u001b[0m \u001b[32m89.7/89.7 kB\u001b[0m \u001b[31m1.5 MB/s\u001b[0m eta \u001b[36m0:00:00\u001b[0m\n",
            "\u001b[?25h  Preparing metadata (setup.py) ... \u001b[?25l\u001b[?25hdone\n",
            "\u001b[2K     \u001b[90m━━━━━━━━━━━━━━━━━━━━━━━━━━━━━━━━━━━━━━━━\u001b[0m \u001b[32m49.2/49.2 kB\u001b[0m \u001b[31m4.6 MB/s\u001b[0m eta \u001b[36m0:00:00\u001b[0m\n",
            "\u001b[2K     \u001b[90m━━━━━━━━━━━━━━━━━━━━━━━━━━━━━━━━━━━━━━━\u001b[0m \u001b[32m152.0/152.0 kB\u001b[0m \u001b[31m8.0 MB/s\u001b[0m eta \u001b[36m0:00:00\u001b[0m\n",
            "\u001b[?25h  Preparing metadata (setup.py) ... \u001b[?25l\u001b[?25hdone\n",
            "\u001b[2K     \u001b[90m━━━━━━━━━━━━━━━━━━━━━━━━━━━━━━━━━━━━━━━━\u001b[0m \u001b[32m43.4/43.4 kB\u001b[0m \u001b[31m3.9 MB/s\u001b[0m eta \u001b[36m0:00:00\u001b[0m\n",
            "\u001b[?25h  Preparing metadata (setup.py) ... \u001b[?25l\u001b[?25hdone\n",
            "\u001b[2K     \u001b[90m━━━━━━━━━━━━━━━━━━━━━━━━━━━━━━━━━━━━━━━━\u001b[0m \u001b[32m2.7/2.7 MB\u001b[0m \u001b[31m16.4 MB/s\u001b[0m eta \u001b[36m0:00:00\u001b[0m\n",
            "\u001b[?25h  Preparing metadata (setup.py) ... \u001b[?25l\u001b[?25hdone\n",
            "\u001b[2K   \u001b[90m━━━━━━━━━━━━━━━━━━━━━━━━━━━━━━━━━━━━━━━━\u001b[0m \u001b[32m14.7/14.7 MB\u001b[0m \u001b[31m56.6 MB/s\u001b[0m eta \u001b[36m0:00:00\u001b[0m\n",
            "\u001b[2K   \u001b[90m━━━━━━━━━━━━━━━━━━━━━━━━━━━━━━━━━━━━━━━━\u001b[0m \u001b[32m2.7/2.7 MB\u001b[0m \u001b[31m72.6 MB/s\u001b[0m eta \u001b[36m0:00:00\u001b[0m\n",
            "\u001b[2K   \u001b[90m━━━━━━━━━━━━━━━━━━━━━━━━━━━━━━━━━━━━━━━━\u001b[0m \u001b[32m138.7/138.7 kB\u001b[0m \u001b[31m15.2 MB/s\u001b[0m eta \u001b[36m0:00:00\u001b[0m\n",
            "\u001b[2K   \u001b[90m━━━━━━━━━━━━━━━━━━━━━━━━━━━━━━━━━━━━━━━━\u001b[0m \u001b[32m671.3/671.3 kB\u001b[0m \u001b[31m51.5 MB/s\u001b[0m eta \u001b[36m0:00:00\u001b[0m\n",
            "\u001b[2K   \u001b[90m━━━━━━━━━━━━━━━━━━━━━━━━━━━━━━━━━━━━━━━━\u001b[0m \u001b[32m300.4/300.4 kB\u001b[0m \u001b[31m22.4 MB/s\u001b[0m eta \u001b[36m0:00:00\u001b[0m\n",
            "\u001b[?25h  Building wheel for crcmod (setup.py) ... \u001b[?25l\u001b[?25hdone\n",
            "  Building wheel for dill (setup.py) ... \u001b[?25l\u001b[?25hdone\n",
            "  Building wheel for hdfs (setup.py) ... \u001b[?25l\u001b[?25hdone\n",
            "  Building wheel for docopt (setup.py) ... \u001b[?25l\u001b[?25hdone\n",
            "\u001b[33mWARNING: Running pip as the 'root' user can result in broken permissions and conflicting behaviour with the system package manager. It is recommended to use a virtual environment instead: https://pip.pypa.io/warnings/venv\u001b[0m\u001b[33m\n",
            "\u001b[0m\n",
            ">> mkdir -p data\n",
            "\n",
            ">> gsutil cp gs://dataflow-samples/shakespeare/kinglear.txt data/\n",
            "Copying gs://dataflow-samples/shakespeare/kinglear.txt...\n",
            "/ [1 files][153.6 KiB/153.6 KiB]                                                \n",
            "Operation completed over 1 objects/153.6 KiB.                                    \n",
            "\n"
          ]
        }
      ]
    },
    {
      "cell_type": "code",
      "metadata": {
        "id": "c35B2XSSv0Rk"
      },
      "source": [
        "! wc -l data/kinglear.txt\n"
      ],
      "execution_count": null,
      "outputs": []
    },
    {
      "cell_type": "code",
      "metadata": {
        "id": "SnRHHTI6RDAk",
        "colab": {
          "base_uri": "https://localhost:8080/"
        },
        "outputId": "ad1e0bfe-fd7a-41f2-c890-2a96fa9cc1c2"
      },
      "source": [
        "\n",
        "! head -3 data/kinglear.txt"
      ],
      "execution_count": 3,
      "outputs": [
        {
          "output_type": "stream",
          "name": "stdout",
          "text": [
            "\tKING LEAR\n",
            "\n",
            "\n"
          ]
        }
      ]
    },
    {
      "cell_type": "code",
      "metadata": {
        "id": "oUqfqWyMuIfR"
      },
      "source": [
        "import apache_beam as beam\n",
        "import re\n",
        "\n",
        "inputs_pattern = 'data/*'\n",
        "outputs_prefix = 'outputs/part'"
      ],
      "execution_count": 4,
      "outputs": []
    },
    {
      "cell_type": "code",
      "metadata": {
        "id": "b4LZ-GwZ7yHO"
      },
      "source": [],
      "execution_count": null,
      "outputs": []
    },
    {
      "cell_type": "markdown",
      "metadata": {
        "id": "0fntXsJh7y7b"
      },
      "source": [
        "## How to interactively work with Beam\n",
        "\n",
        "Here is an example of how to work iteratively with beam in order to understand what is happening in your pipeline.\n",
        "\n",
        "Firstly, reduce the size of the King Lear file to be manageable"
      ]
    },
    {
      "cell_type": "code",
      "metadata": {
        "id": "cA9P9WEe661s",
        "colab": {
          "base_uri": "https://localhost:8080/"
        },
        "outputId": "18063563-67d7-4ee8-97e4-af2a84b1805a"
      },
      "source": [
        "\n",
        "! head -10 data/kinglear.txt > data/small.txt\n",
        "! wc -l data/small.txt"
      ],
      "execution_count": 5,
      "outputs": [
        {
          "output_type": "stream",
          "name": "stdout",
          "text": [
            "10 data/small.txt\n"
          ]
        }
      ]
    },
    {
      "cell_type": "markdown",
      "metadata": {
        "id": "VbQtmvTF8I2A"
      },
      "source": [
        "Create a custom print function (the python3 function `print` is supposed to work but we define our own here). Then it is possible to see what you are doing to the file.\n",
        "\n",
        "But something is wrong... why is it printing twice, see [SO](https://stackoverflow.com/a/52282001/1185293)"
      ]
    },
    {
      "cell_type": "code",
      "metadata": {
        "id": "HRncM_GJ6Jsk",
        "colab": {
          "base_uri": "https://localhost:8080/",
          "height": 420
        },
        "outputId": "3b732432-6dfe-4147-f606-3d90dc991c78"
      },
      "source": [
        "def myprint(x):\n",
        "  print('{}'.format(x))\n",
        "\n",
        "with beam.Pipeline() as pipeline:\n",
        "  (pipeline\n",
        "      | 'Read lines' >> beam.io.ReadFromText('data/small.txt')\n",
        "      | \"print\" >> beam.Map(myprint)\n",
        "  )\n",
        "\n",
        "result = pipeline.run()\n",
        "result.wait_until_finish()"
      ],
      "execution_count": 6,
      "outputs": [
        {
          "output_type": "stream",
          "name": "stderr",
          "text": [
            "WARNING:apache_beam.runners.interactive.interactive_environment:Dependencies required for Interactive Beam PCollection visualization are not available, please use: `pip install apache-beam[interactive]` to install necessary dependencies to enable all data visualization features.\n"
          ]
        },
        {
          "output_type": "display_data",
          "data": {
            "application/javascript": [
              "\n",
              "        if (typeof window.interactive_beam_jquery == 'undefined') {\n",
              "          var jqueryScript = document.createElement('script');\n",
              "          jqueryScript.src = 'https://code.jquery.com/jquery-3.4.1.slim.min.js';\n",
              "          jqueryScript.type = 'text/javascript';\n",
              "          jqueryScript.onload = function() {\n",
              "            var datatableScript = document.createElement('script');\n",
              "            datatableScript.src = 'https://cdn.datatables.net/1.10.20/js/jquery.dataTables.min.js';\n",
              "            datatableScript.type = 'text/javascript';\n",
              "            datatableScript.onload = function() {\n",
              "              window.interactive_beam_jquery = jQuery.noConflict(true);\n",
              "              window.interactive_beam_jquery(document).ready(function($){\n",
              "                \n",
              "              });\n",
              "            }\n",
              "            document.head.appendChild(datatableScript);\n",
              "          };\n",
              "          document.head.appendChild(jqueryScript);\n",
              "        } else {\n",
              "          window.interactive_beam_jquery(document).ready(function($){\n",
              "            \n",
              "          });\n",
              "        }"
            ]
          },
          "metadata": {}
        },
        {
          "output_type": "stream",
          "name": "stdout",
          "text": [
            "\tKING LEAR\n",
            "\n",
            "\n",
            "\tDRAMATIS PERSONAE\n",
            "\n",
            "\n",
            "LEAR\tking of Britain  (KING LEAR:)\n",
            "\n",
            "KING OF FRANCE:\n",
            "\n",
            "\tKING LEAR\n",
            "\n",
            "\n",
            "\tDRAMATIS PERSONAE\n",
            "\n",
            "\n",
            "LEAR\tking of Britain  (KING LEAR:)\n",
            "\n",
            "KING OF FRANCE:\n",
            "\n"
          ]
        },
        {
          "output_type": "execute_result",
          "data": {
            "text/plain": [
              "'DONE'"
            ],
            "application/vnd.google.colaboratory.intrinsic+json": {
              "type": "string"
            }
          },
          "metadata": {},
          "execution_count": 6
        }
      ]
    },
    {
      "cell_type": "markdown",
      "metadata": {
        "id": "qecOY9oy-t_I"
      },
      "source": [
        "Now, let's break split each line on spaces and get the words out."
      ]
    },
    {
      "cell_type": "code",
      "metadata": {
        "id": "cSTmuelL-p7-",
        "colab": {
          "base_uri": "https://localhost:8080/"
        },
        "outputId": "245a1d2a-e46d-41be-aa2a-1749d7cde196"
      },
      "source": [
        "\n",
        "with beam.Pipeline() as pipeline:\n",
        "  (pipeline\n",
        "      | 'Read lines' >> beam.io.ReadFromText('data/small.txt')\n",
        "      | 'get words' >> beam.FlatMap(lambda line: re.findall(r\"[a-zA-Z']+\", line))\n",
        "      | \"print\" >> beam.Map(myprint)\n",
        "  )"
      ],
      "execution_count": 7,
      "outputs": [
        {
          "output_type": "stream",
          "name": "stdout",
          "text": [
            "KING\n",
            "LEAR\n",
            "DRAMATIS\n",
            "PERSONAE\n",
            "LEAR\n",
            "king\n",
            "of\n",
            "Britain\n",
            "KING\n",
            "LEAR\n",
            "KING\n",
            "OF\n",
            "FRANCE\n"
          ]
        }
      ]
    },
    {
      "cell_type": "markdown",
      "metadata": {
        "id": "m1b1x1qT_x0y"
      },
      "source": [
        "Recall that `flatMap`s typically act on something (a function, iterable or variable) and apply a function to that something to produce a list of elements. See [this](https://beam.apache.org/documentation/transforms/python/elementwise/flatmap/) great example of how FlatMap works in Beam, and this answer on [SO](https://stackoverflow.com/a/45682977/1185293) for a simple explanation.\n",
        "\n",
        "In the case above, we applied an anonymous function (lambda function) to a line. We can define it explicitly if you prefer a more conventional syntax"
      ]
    },
    {
      "cell_type": "code",
      "metadata": {
        "id": "Wp36rDbMASEq",
        "colab": {
          "base_uri": "https://localhost:8080/"
        },
        "outputId": "770544b6-ae67-4712-bf63-487717fa8904"
      },
      "source": [
        "def my_line_split_func(line):\n",
        "  return re.findall(r\"[a-zA-Z']+\", line)\n",
        "\n",
        "with beam.Pipeline() as pipeline:\n",
        "  (pipeline\n",
        "      | 'Read lines' >> beam.io.ReadFromText('data/small.txt')\n",
        "      | 'get words' >> beam.FlatMap(my_line_split_func)\n",
        "      | \"print\" >> beam.Map(myprint)\n",
        "  )\n"
      ],
      "execution_count": 8,
      "outputs": [
        {
          "output_type": "stream",
          "name": "stdout",
          "text": [
            "KING\n",
            "LEAR\n",
            "DRAMATIS\n",
            "PERSONAE\n",
            "LEAR\n",
            "king\n",
            "of\n",
            "Britain\n",
            "KING\n",
            "LEAR\n",
            "KING\n",
            "OF\n",
            "FRANCE\n"
          ]
        }
      ]
    },
    {
      "cell_type": "markdown",
      "metadata": {
        "id": "XEcvVGs7A7Pn"
      },
      "source": [
        "### Tutorial\n",
        "\n"
      ]
    },
    {
      "cell_type": "code",
      "metadata": {
        "id": "Qv3p_48aA9jO"
      },
      "source": [
        "! echo -e 'r1c1,r1c2,2020/03/05\\nr2c1,r2c2,2020/03/23' > data/play.csv\n"
      ],
      "execution_count": 14,
      "outputs": []
    },
    {
      "cell_type": "code",
      "metadata": {
        "id": "C76uqodZBPUl",
        "colab": {
          "base_uri": "https://localhost:8080/",
          "height": 70
        },
        "outputId": "b0e7ea7b-5740-4a14-c598-9130ce224fd3"
      },
      "source": [
        "\n",
        "class Transform(beam.DoFn):\n",
        "\n",
        "  # Use classes to perform transformations on your PCollections\n",
        "  # Yield or return the element(s) needed as input for the next transform\n",
        "  def process(self, element):\n",
        "    yield element\n",
        "\n",
        "\n",
        "with beam.Pipeline() as pipeline:\n",
        "  (pipeline\n",
        "      | 'Read lines' >> beam.io.ReadFromText('data/play.csv')\n",
        "      | 'format line' >> beam.ParDo(Transform())\n",
        "      | \"print\" >> beam.Map(myprint)\n",
        "  )\n",
        "\n",
        "\n",
        "result.wait_until_finish()"
      ],
      "execution_count": 15,
      "outputs": [
        {
          "output_type": "stream",
          "name": "stdout",
          "text": [
            "r1c1,r1c2,2020/03/05\n",
            "r2c1,r2c2,2020/03/23\n"
          ]
        },
        {
          "output_type": "execute_result",
          "data": {
            "text/plain": [
              "'DONE'"
            ],
            "application/vnd.google.colaboratory.intrinsic+json": {
              "type": "string"
            }
          },
          "metadata": {},
          "execution_count": 15
        }
      ]
    },
    {
      "cell_type": "code",
      "metadata": {
        "id": "j7nyDcnuJp2G",
        "colab": {
          "base_uri": "https://localhost:8080/",
          "height": 380
        },
        "outputId": "4f28f2b9-f585-4275-95d0-b799c7e0063a"
      },
      "source": [
        "#MOUNT Google Drive\n",
        "from google.colab import drive\n",
        "drive.mount('/content/drive')\n",
        "import pandas as pd\n",
        "import numpy as np\n",
        "import matplotlib.pyplot as plt\n",
        "\n",
        "#Load the dataset into a Pandas DataFrame\n",
        "data =  pd.read_csv('/content/drive/My Drive/Datasets/users_v.csv', sep=',')\n",
        "\n",
        "data.head(10)"
      ],
      "execution_count": 23,
      "outputs": [
        {
          "output_type": "stream",
          "name": "stdout",
          "text": [
            "Drive already mounted at /content/drive; to attempt to forcibly remount, call drive.mount(\"/content/drive\", force_remount=True).\n"
          ]
        },
        {
          "output_type": "execute_result",
          "data": {
            "text/plain": [
              "   user_id             name  gender  age                     address  \\\n",
              "0        1     Anthony Wolf    male   73    New Rachelburgh-VA-49583   \n",
              "1        2  James Armstrong    male   56  North Jillianfort-UT-86454   \n",
              "2        3        Cody Shaw    male   75         North Anne-SC-53799   \n",
              "3        4  Sierra Hamilton  female   76     New Angelafurt-ME-46190   \n",
              "4        5      Chase Davis    male   31    South Bethmouth-WI-18562   \n",
              "5        6   Sierra Andrews  female   21          Ryanville-MI-69690   \n",
              "6        7        Ann Stone  female   41         Smithmouth-SD-17340   \n",
              "7        8     Karen Santos  female   34         Mariaville-AK-29888   \n",
              "8        9     Ronald Meyer    male   41  North Cherylhaven-NJ-04197   \n",
              "9       10    Steven Rivera    male   43          Wayneside-VT-29040   \n",
              "\n",
              "  date_joined  \n",
              "0  2019/03/13  \n",
              "1  2020/11/06  \n",
              "2  2004/05/29  \n",
              "3  2005/08/26  \n",
              "4  2018/04/30  \n",
              "5  2007/05/25  \n",
              "6  2005/01/05  \n",
              "7  2003/12/12  \n",
              "8  2015/11/14  \n",
              "9  2003/05/15  "
            ],
            "text/html": [
              "\n",
              "  <div id=\"df-d20f8067-f679-4cb3-acb7-00b0b1f57076\" class=\"colab-df-container\">\n",
              "    <div>\n",
              "<style scoped>\n",
              "    .dataframe tbody tr th:only-of-type {\n",
              "        vertical-align: middle;\n",
              "    }\n",
              "\n",
              "    .dataframe tbody tr th {\n",
              "        vertical-align: top;\n",
              "    }\n",
              "\n",
              "    .dataframe thead th {\n",
              "        text-align: right;\n",
              "    }\n",
              "</style>\n",
              "<table border=\"1\" class=\"dataframe\">\n",
              "  <thead>\n",
              "    <tr style=\"text-align: right;\">\n",
              "      <th></th>\n",
              "      <th>user_id</th>\n",
              "      <th>name</th>\n",
              "      <th>gender</th>\n",
              "      <th>age</th>\n",
              "      <th>address</th>\n",
              "      <th>date_joined</th>\n",
              "    </tr>\n",
              "  </thead>\n",
              "  <tbody>\n",
              "    <tr>\n",
              "      <th>0</th>\n",
              "      <td>1</td>\n",
              "      <td>Anthony Wolf</td>\n",
              "      <td>male</td>\n",
              "      <td>73</td>\n",
              "      <td>New Rachelburgh-VA-49583</td>\n",
              "      <td>2019/03/13</td>\n",
              "    </tr>\n",
              "    <tr>\n",
              "      <th>1</th>\n",
              "      <td>2</td>\n",
              "      <td>James Armstrong</td>\n",
              "      <td>male</td>\n",
              "      <td>56</td>\n",
              "      <td>North Jillianfort-UT-86454</td>\n",
              "      <td>2020/11/06</td>\n",
              "    </tr>\n",
              "    <tr>\n",
              "      <th>2</th>\n",
              "      <td>3</td>\n",
              "      <td>Cody Shaw</td>\n",
              "      <td>male</td>\n",
              "      <td>75</td>\n",
              "      <td>North Anne-SC-53799</td>\n",
              "      <td>2004/05/29</td>\n",
              "    </tr>\n",
              "    <tr>\n",
              "      <th>3</th>\n",
              "      <td>4</td>\n",
              "      <td>Sierra Hamilton</td>\n",
              "      <td>female</td>\n",
              "      <td>76</td>\n",
              "      <td>New Angelafurt-ME-46190</td>\n",
              "      <td>2005/08/26</td>\n",
              "    </tr>\n",
              "    <tr>\n",
              "      <th>4</th>\n",
              "      <td>5</td>\n",
              "      <td>Chase Davis</td>\n",
              "      <td>male</td>\n",
              "      <td>31</td>\n",
              "      <td>South Bethmouth-WI-18562</td>\n",
              "      <td>2018/04/30</td>\n",
              "    </tr>\n",
              "    <tr>\n",
              "      <th>5</th>\n",
              "      <td>6</td>\n",
              "      <td>Sierra Andrews</td>\n",
              "      <td>female</td>\n",
              "      <td>21</td>\n",
              "      <td>Ryanville-MI-69690</td>\n",
              "      <td>2007/05/25</td>\n",
              "    </tr>\n",
              "    <tr>\n",
              "      <th>6</th>\n",
              "      <td>7</td>\n",
              "      <td>Ann Stone</td>\n",
              "      <td>female</td>\n",
              "      <td>41</td>\n",
              "      <td>Smithmouth-SD-17340</td>\n",
              "      <td>2005/01/05</td>\n",
              "    </tr>\n",
              "    <tr>\n",
              "      <th>7</th>\n",
              "      <td>8</td>\n",
              "      <td>Karen Santos</td>\n",
              "      <td>female</td>\n",
              "      <td>34</td>\n",
              "      <td>Mariaville-AK-29888</td>\n",
              "      <td>2003/12/12</td>\n",
              "    </tr>\n",
              "    <tr>\n",
              "      <th>8</th>\n",
              "      <td>9</td>\n",
              "      <td>Ronald Meyer</td>\n",
              "      <td>male</td>\n",
              "      <td>41</td>\n",
              "      <td>North Cherylhaven-NJ-04197</td>\n",
              "      <td>2015/11/14</td>\n",
              "    </tr>\n",
              "    <tr>\n",
              "      <th>9</th>\n",
              "      <td>10</td>\n",
              "      <td>Steven Rivera</td>\n",
              "      <td>male</td>\n",
              "      <td>43</td>\n",
              "      <td>Wayneside-VT-29040</td>\n",
              "      <td>2003/05/15</td>\n",
              "    </tr>\n",
              "  </tbody>\n",
              "</table>\n",
              "</div>\n",
              "    <div class=\"colab-df-buttons\">\n",
              "\n",
              "  <div class=\"colab-df-container\">\n",
              "    <button class=\"colab-df-convert\" onclick=\"convertToInteractive('df-d20f8067-f679-4cb3-acb7-00b0b1f57076')\"\n",
              "            title=\"Convert this dataframe to an interactive table.\"\n",
              "            style=\"display:none;\">\n",
              "\n",
              "  <svg xmlns=\"http://www.w3.org/2000/svg\" height=\"24px\" viewBox=\"0 -960 960 960\">\n",
              "    <path d=\"M120-120v-720h720v720H120Zm60-500h600v-160H180v160Zm220 220h160v-160H400v160Zm0 220h160v-160H400v160ZM180-400h160v-160H180v160Zm440 0h160v-160H620v160ZM180-180h160v-160H180v160Zm440 0h160v-160H620v160Z\"/>\n",
              "  </svg>\n",
              "    </button>\n",
              "\n",
              "  <style>\n",
              "    .colab-df-container {\n",
              "      display:flex;\n",
              "      gap: 12px;\n",
              "    }\n",
              "\n",
              "    .colab-df-convert {\n",
              "      background-color: #E8F0FE;\n",
              "      border: none;\n",
              "      border-radius: 50%;\n",
              "      cursor: pointer;\n",
              "      display: none;\n",
              "      fill: #1967D2;\n",
              "      height: 32px;\n",
              "      padding: 0 0 0 0;\n",
              "      width: 32px;\n",
              "    }\n",
              "\n",
              "    .colab-df-convert:hover {\n",
              "      background-color: #E2EBFA;\n",
              "      box-shadow: 0px 1px 2px rgba(60, 64, 67, 0.3), 0px 1px 3px 1px rgba(60, 64, 67, 0.15);\n",
              "      fill: #174EA6;\n",
              "    }\n",
              "\n",
              "    .colab-df-buttons div {\n",
              "      margin-bottom: 4px;\n",
              "    }\n",
              "\n",
              "    [theme=dark] .colab-df-convert {\n",
              "      background-color: #3B4455;\n",
              "      fill: #D2E3FC;\n",
              "    }\n",
              "\n",
              "    [theme=dark] .colab-df-convert:hover {\n",
              "      background-color: #434B5C;\n",
              "      box-shadow: 0px 1px 3px 1px rgba(0, 0, 0, 0.15);\n",
              "      filter: drop-shadow(0px 1px 2px rgba(0, 0, 0, 0.3));\n",
              "      fill: #FFFFFF;\n",
              "    }\n",
              "  </style>\n",
              "\n",
              "    <script>\n",
              "      const buttonEl =\n",
              "        document.querySelector('#df-d20f8067-f679-4cb3-acb7-00b0b1f57076 button.colab-df-convert');\n",
              "      buttonEl.style.display =\n",
              "        google.colab.kernel.accessAllowed ? 'block' : 'none';\n",
              "\n",
              "      async function convertToInteractive(key) {\n",
              "        const element = document.querySelector('#df-d20f8067-f679-4cb3-acb7-00b0b1f57076');\n",
              "        const dataTable =\n",
              "          await google.colab.kernel.invokeFunction('convertToInteractive',\n",
              "                                                    [key], {});\n",
              "        if (!dataTable) return;\n",
              "\n",
              "        const docLinkHtml = 'Like what you see? Visit the ' +\n",
              "          '<a target=\"_blank\" href=https://colab.research.google.com/notebooks/data_table.ipynb>data table notebook</a>'\n",
              "          + ' to learn more about interactive tables.';\n",
              "        element.innerHTML = '';\n",
              "        dataTable['output_type'] = 'display_data';\n",
              "        await google.colab.output.renderOutput(dataTable, element);\n",
              "        const docLink = document.createElement('div');\n",
              "        docLink.innerHTML = docLinkHtml;\n",
              "        element.appendChild(docLink);\n",
              "      }\n",
              "    </script>\n",
              "  </div>\n",
              "\n",
              "\n",
              "<div id=\"df-36255fa9-0d55-4ee4-b8e3-1147b5e3574d\">\n",
              "  <button class=\"colab-df-quickchart\" onclick=\"quickchart('df-36255fa9-0d55-4ee4-b8e3-1147b5e3574d')\"\n",
              "            title=\"Suggest charts.\"\n",
              "            style=\"display:none;\">\n",
              "\n",
              "<svg xmlns=\"http://www.w3.org/2000/svg\" height=\"24px\"viewBox=\"0 0 24 24\"\n",
              "     width=\"24px\">\n",
              "    <g>\n",
              "        <path d=\"M19 3H5c-1.1 0-2 .9-2 2v14c0 1.1.9 2 2 2h14c1.1 0 2-.9 2-2V5c0-1.1-.9-2-2-2zM9 17H7v-7h2v7zm4 0h-2V7h2v10zm4 0h-2v-4h2v4z\"/>\n",
              "    </g>\n",
              "</svg>\n",
              "  </button>\n",
              "\n",
              "<style>\n",
              "  .colab-df-quickchart {\n",
              "      --bg-color: #E8F0FE;\n",
              "      --fill-color: #1967D2;\n",
              "      --hover-bg-color: #E2EBFA;\n",
              "      --hover-fill-color: #174EA6;\n",
              "      --disabled-fill-color: #AAA;\n",
              "      --disabled-bg-color: #DDD;\n",
              "  }\n",
              "\n",
              "  [theme=dark] .colab-df-quickchart {\n",
              "      --bg-color: #3B4455;\n",
              "      --fill-color: #D2E3FC;\n",
              "      --hover-bg-color: #434B5C;\n",
              "      --hover-fill-color: #FFFFFF;\n",
              "      --disabled-bg-color: #3B4455;\n",
              "      --disabled-fill-color: #666;\n",
              "  }\n",
              "\n",
              "  .colab-df-quickchart {\n",
              "    background-color: var(--bg-color);\n",
              "    border: none;\n",
              "    border-radius: 50%;\n",
              "    cursor: pointer;\n",
              "    display: none;\n",
              "    fill: var(--fill-color);\n",
              "    height: 32px;\n",
              "    padding: 0;\n",
              "    width: 32px;\n",
              "  }\n",
              "\n",
              "  .colab-df-quickchart:hover {\n",
              "    background-color: var(--hover-bg-color);\n",
              "    box-shadow: 0 1px 2px rgba(60, 64, 67, 0.3), 0 1px 3px 1px rgba(60, 64, 67, 0.15);\n",
              "    fill: var(--button-hover-fill-color);\n",
              "  }\n",
              "\n",
              "  .colab-df-quickchart-complete:disabled,\n",
              "  .colab-df-quickchart-complete:disabled:hover {\n",
              "    background-color: var(--disabled-bg-color);\n",
              "    fill: var(--disabled-fill-color);\n",
              "    box-shadow: none;\n",
              "  }\n",
              "\n",
              "  .colab-df-spinner {\n",
              "    border: 2px solid var(--fill-color);\n",
              "    border-color: transparent;\n",
              "    border-bottom-color: var(--fill-color);\n",
              "    animation:\n",
              "      spin 1s steps(1) infinite;\n",
              "  }\n",
              "\n",
              "  @keyframes spin {\n",
              "    0% {\n",
              "      border-color: transparent;\n",
              "      border-bottom-color: var(--fill-color);\n",
              "      border-left-color: var(--fill-color);\n",
              "    }\n",
              "    20% {\n",
              "      border-color: transparent;\n",
              "      border-left-color: var(--fill-color);\n",
              "      border-top-color: var(--fill-color);\n",
              "    }\n",
              "    30% {\n",
              "      border-color: transparent;\n",
              "      border-left-color: var(--fill-color);\n",
              "      border-top-color: var(--fill-color);\n",
              "      border-right-color: var(--fill-color);\n",
              "    }\n",
              "    40% {\n",
              "      border-color: transparent;\n",
              "      border-right-color: var(--fill-color);\n",
              "      border-top-color: var(--fill-color);\n",
              "    }\n",
              "    60% {\n",
              "      border-color: transparent;\n",
              "      border-right-color: var(--fill-color);\n",
              "    }\n",
              "    80% {\n",
              "      border-color: transparent;\n",
              "      border-right-color: var(--fill-color);\n",
              "      border-bottom-color: var(--fill-color);\n",
              "    }\n",
              "    90% {\n",
              "      border-color: transparent;\n",
              "      border-bottom-color: var(--fill-color);\n",
              "    }\n",
              "  }\n",
              "</style>\n",
              "\n",
              "  <script>\n",
              "    async function quickchart(key) {\n",
              "      const quickchartButtonEl =\n",
              "        document.querySelector('#' + key + ' button');\n",
              "      quickchartButtonEl.disabled = true;  // To prevent multiple clicks.\n",
              "      quickchartButtonEl.classList.add('colab-df-spinner');\n",
              "      try {\n",
              "        const charts = await google.colab.kernel.invokeFunction(\n",
              "            'suggestCharts', [key], {});\n",
              "      } catch (error) {\n",
              "        console.error('Error during call to suggestCharts:', error);\n",
              "      }\n",
              "      quickchartButtonEl.classList.remove('colab-df-spinner');\n",
              "      quickchartButtonEl.classList.add('colab-df-quickchart-complete');\n",
              "    }\n",
              "    (() => {\n",
              "      let quickchartButtonEl =\n",
              "        document.querySelector('#df-36255fa9-0d55-4ee4-b8e3-1147b5e3574d button');\n",
              "      quickchartButtonEl.style.display =\n",
              "        google.colab.kernel.accessAllowed ? 'block' : 'none';\n",
              "    })();\n",
              "  </script>\n",
              "</div>\n",
              "    </div>\n",
              "  </div>\n"
            ]
          },
          "metadata": {},
          "execution_count": 23
        }
      ]
    },
    {
      "cell_type": "code",
      "source": [
        "input_file = '/content/drive/My Drive/Datasets/users_v.csv'\n",
        "output_file = '/content/drive/My Drive/Datasets/marketing_format.csv'\n",
        "\n",
        "def split_row(row):\n",
        "    user_id, name, gender, age, address, date_joined = row.split(',')\n",
        "    return {\n",
        "        'user_id': user_id,\n",
        "        'name': name,\n",
        "        'gender': gender,\n",
        "        'age': age,\n",
        "        'address': address,\n",
        "        'date_joined': date_joined\n",
        "    }\n",
        "\n",
        "def change_date_format(row):\n",
        "    try:\n",
        "        row['date_joined'] = dateutil.parser.parse(row['date_joined']).strftime('%Y-%m-%d')\n",
        "    except ValueError:\n",
        "        row['date_joined'] = ''\n",
        "    return row\n",
        "\n",
        "def change_address_format(row):\n",
        "    row['address'] = ','.join(row['address'].split())\n",
        "    return row\n",
        "\n",
        "with beam.Pipeline() as pipeline:\n",
        "    lines = (\n",
        "        pipeline\n",
        "        | 'ReadInput' >> beam.io.ReadFromText(input_file)\n",
        "    )\n",
        "\n",
        "\n",
        "    formatted_data = (\n",
        "        lines\n",
        "        | 'SplitRow' >> beam.Map(split_row)\n",
        "        | 'ChangeDateFormat' >> beam.Map(change_date_format)\n",
        "        | 'ChangeAddressFormat' >> beam.Map(change_address_format)\n",
        "    )\n",
        "\n",
        "\n",
        "    (\n",
        "        formatted_data\n",
        "        | 'WriteFormattedData' >> beam.io.WriteToText(\n",
        "            '/content/drive/My Drive/Datasets/marketing_format.csv',\n",
        "            file_name_suffix='.csv',\n",
        "            header='user_id name gender age address date_joined',\n",
        "            num_shards=1,\n",
        "            shard_name_template='',\n",
        "        )\n",
        "    )\n",
        "result = pipeline.run()\n",
        "result.wait_until_finish()\n"
      ],
      "metadata": {
        "colab": {
          "base_uri": "https://localhost:8080/",
          "height": 70
        },
        "id": "Ut7IF6xxEUQE",
        "outputId": "0831f2d7-e363-4dd4-c2d7-d4c941961f19"
      },
      "execution_count": 48,
      "outputs": [
        {
          "output_type": "stream",
          "name": "stderr",
          "text": [
            "WARNING:apache_beam.io.filebasedsink:Deleting 1 existing files in target path matching: \n",
            "WARNING:apache_beam.io.filebasedsink:Deleting 1 existing files in target path matching: \n"
          ]
        },
        {
          "output_type": "execute_result",
          "data": {
            "text/plain": [
              "'DONE'"
            ],
            "application/vnd.google.colaboratory.intrinsic+json": {
              "type": "string"
            }
          },
          "metadata": {},
          "execution_count": 48
        }
      ]
    },
    {
      "cell_type": "code",
      "source": [
        "gender_counts = (\n",
        "    formatted_data\n",
        "    | 'CountGender' >> beam.Map(lambda row: (row['gender'], 1))\n",
        "    | 'GroupByGender' >> beam.GroupByKey()\n",
        "    | 'CountByGender' >> beam.Map(lambda gender_counts: (gender_counts[0], sum(gender_counts[1])))\n",
        ")\n",
        "\n",
        "\n",
        "customers_per_day = (\n",
        "    formatted_data\n",
        "    | 'CountByDate1' >> beam.Map(lambda row: (row['date_joined'], 1))\n",
        "    | 'GroupByDate' >> beam.GroupByKey()\n",
        "    | 'CountByDate2' >> beam.Map(lambda date_counts: (date_counts[0], sum(date_counts[1])))\n",
        ")\n",
        "\n",
        "customers_by_state = (\n",
        "    formatted_data\n",
        "    | 'ExtractState' >> beam.Map(lambda row: row['address'].split(',')[-1])\n",
        "    | 'CountByState1' >> beam.Map(lambda state: (state, 1))\n",
        "    | 'GroupByState' >> beam.GroupByKey()\n",
        "    | 'CountByState2' >> beam.Map(lambda state_counts: (state_counts[0], sum(state_counts[1])))\n",
        ")\n",
        "\n",
        "\n",
        "gender_output_file = '/content/drive/My Drive/Datasets/gender_counts.csv'\n",
        "(\n",
        "    gender_counts\n",
        "    | 'WriteGenderComposition' >> beam.io.WriteToText(gender_output_file, file_name_suffix='.csv', num_shards=1)\n",
        ")\n",
        "\n",
        "\n",
        "date_output_file = '/content/drive/My Drive/Datasets/customers_per_day.csv'\n",
        "(\n",
        "    customers_per_day\n",
        "    | 'WriteCustomersPerDay' >> beam.io.WriteToText(date_output_file, file_name_suffix='.csv', num_shards=1)\n",
        ")\n",
        "\n",
        "\n",
        "state_output_file = '/content/drive/My Drive/Datasets/customers_by_state.csv'\n",
        "(\n",
        "    customers_by_state\n",
        "    | 'WriteCustomersByState' >> beam.io.WriteToText(state_output_file, file_name_suffix='.csv', num_shards=1)\n",
        ")\n",
        "\n",
        "\n",
        "result = pipeline.run()\n",
        "result.wait_until_finish()\n"
      ],
      "metadata": {
        "colab": {
          "base_uri": "https://localhost:8080/",
          "height": 88
        },
        "id": "xliYyjviF0Tt",
        "outputId": "9e7e994c-6ef7-42e1-df07-115ddf1921e1"
      },
      "execution_count": 49,
      "outputs": [
        {
          "output_type": "stream",
          "name": "stderr",
          "text": [
            "WARNING:apache_beam.io.filebasedsink:Deleting 1 existing files in target path matching: \n",
            "WARNING:apache_beam.io.filebasedsink:Deleting 1 existing files in target path matching: -*-of-%(num_shards)05d\n",
            "WARNING:apache_beam.io.filebasedsink:Deleting 1 existing files in target path matching: -*-of-%(num_shards)05d\n"
          ]
        },
        {
          "output_type": "execute_result",
          "data": {
            "text/plain": [
              "'DONE'"
            ],
            "application/vnd.google.colaboratory.intrinsic+json": {
              "type": "string"
            }
          },
          "metadata": {},
          "execution_count": 49
        }
      ]
    }
  ]
}